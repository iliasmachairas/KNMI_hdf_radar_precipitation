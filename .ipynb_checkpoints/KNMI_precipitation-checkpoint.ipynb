{
 "cells": [
  {
   "cell_type": "code",
   "execution_count": 3,
   "metadata": {},
   "outputs": [],
   "source": [
    "import numpy as np\n",
    "import h5py"
   ]
  },
  {
   "cell_type": "markdown",
   "metadata": {},
   "source": [
    "# Reading the file"
   ]
  },
  {
   "cell_type": "code",
   "execution_count": 18,
   "metadata": {},
   "outputs": [],
   "source": [
    "filename = r\"Data\\RAD_NL25_RAC_RE_201812171030.h5\"\n",
    "\n",
    "with h5py.File(filename, \"r\") as hdf:\n",
    "    \n",
    "    # Extracting image\n",
    "    base_items = list(hdf.items())\n",
    "    image_1_data = hdf.get('image1')\n",
    "    image_1_items = list(image_1_data.items())\n",
    "    image_1_array = np.array(image_1_data.get('image_data'))\n",
    "     \n",
    "    # Exctracting metadata\n",
    "    geography = hdf.get('geographic')\n",
    "    geography_attrs = dict(geography.attrs.items())\n",
    "    prj = geography.get('map_projection')\n",
    "    proj_info = dict(prj.attrs.items())"
   ]
  },
  {
   "cell_type": "code",
   "execution_count": 19,
   "metadata": {},
   "outputs": [
    {
     "data": {
      "text/plain": [
       "{'projection_indication': b'Y',\n",
       " 'projection_name': b'STEREOGRAPHIC',\n",
       " 'projection_proj4_params': b'+proj=stere +lat_0=90 +lon_0=0 +lat_ts=60 +a=6378.14 +b=6356.75 +x_0=0 +y_0=0'}"
      ]
     },
     "execution_count": 19,
     "metadata": {},
     "output_type": "execute_result"
    }
   ],
   "source": [
    "proj_info"
   ]
  },
  {
   "cell_type": "code",
   "execution_count": 20,
   "metadata": {},
   "outputs": [],
   "source": [
    "A = (geography_attrs['geo_product_corners'][-2] - geography_attrs['geo_product_corners'][0]) / geography_attrs['geo_pixel_size_x'][0]\n",
    "E = (geography_attrs['geo_product_corners'][-1] - geography_attrs['geo_product_corners'][3]) / geography_attrs['geo_pixel_size_y'][0]\n",
    "\n",
    "C = geography_attrs['geo_product_corners'][0] + A/2\n",
    "F = geography_attrs['geo_product_corners'][3] + E/2"
   ]
  },
  {
   "cell_type": "code",
   "execution_count": 21,
   "metadata": {},
   "outputs": [
    {
     "name": "stdout",
     "output_type": "stream",
     "text": [
      "9.009268\n",
      "0\n",
      "0\n",
      "7.0782657\n",
      "4.504633903503418\n",
      "59.51273512840271\n"
     ]
    }
   ],
   "source": [
    "print(A,0,0,E,C,F, sep='\\n')"
   ]
  },
  {
   "cell_type": "code",
   "execution_count": 23,
   "metadata": {},
   "outputs": [
    {
     "data": {
      "image/png": "[encoded data removed]",
      "text/plain": [
       "<Figure size 432x288 with 1 Axes>"
      ]
     },
     "metadata": {
      "needs_background": "light"
     },
     "output_type": "display_data"
    }
   ],
   "source": [
    "from matplotlib import pyplot as plt\n",
    "plt.imshow(image_1_array, interpolation='nearest')\n",
    "plt.show()"
   ]
  }
 ],
 "metadata": {
  "kernelspec": {
   "display_name": "Python 3",
   "language": "python",
   "name": "python3"
  },
  "language_info": {
   "codemirror_mode": {
    "name": "ipython",
    "version": 3
   },
   "file_extension": ".py",
   "mimetype": "text/x-python",
   "name": "python",
   "nbconvert_exporter": "python",
   "pygments_lexer": "ipython3",
   "version": "3.8.10"
  }
 },
 "nbformat": 4,
 "nbformat_minor": 2
}
